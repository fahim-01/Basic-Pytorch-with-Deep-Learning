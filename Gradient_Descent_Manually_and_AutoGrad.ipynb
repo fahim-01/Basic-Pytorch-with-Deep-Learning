{
  "nbformat": 4,
  "nbformat_minor": 0,
  "metadata": {
    "colab": {
      "name": "Gradient Descent Manually and  AutoGrad.ipynb",
      "provenance": [],
      "authorship_tag": "ABX9TyPopo97kcfWoSYRV1IlVwrT",
      "include_colab_link": true
    },
    "kernelspec": {
      "name": "python3",
      "display_name": "Python 3"
    },
    "language_info": {
      "name": "python"
    }
  },
  "cells": [
    {
      "cell_type": "markdown",
      "metadata": {
        "id": "view-in-github",
        "colab_type": "text"
      },
      "source": [
        "<a href=\"https://colab.research.google.com/github/fahim-01/Basic-Pytorch-with-Deep-Learning/blob/main/Gradient_Descent_Manually_and_AutoGrad.ipynb\" target=\"_parent\"><img src=\"https://colab.research.google.com/assets/colab-badge.svg\" alt=\"Open In Colab\"/></a>"
      ]
    },
    {
      "cell_type": "markdown",
      "source": [
        "**Gradient Descent Manually**"
      ],
      "metadata": {
        "id": "jyvejQ0f5y64"
      }
    },
    {
      "cell_type": "code",
      "source": [
        "import numpy as np\n",
        "x= np.array([1,2,3,4], dtype=np.float32)\n",
        "y= np.array([2,4,6,8], dtype=np.float32)\n",
        "\n",
        "w=0.0\n",
        "\n",
        "#model pred..\n",
        "def forward(x):\n",
        "  return w*x\n",
        "\n",
        "#loss MSE\n",
        "def loss(y,y_hat):\n",
        "  return((y_hat - y)**2).mean()\n",
        "\n",
        "\n",
        "#gradient\n",
        "def gradient(x,y,y_hat):\n",
        "  return np.dot(2*x, y_hat-y).mean()\n",
        "\n",
        "print(f'prediction before training: f(5) = {forward(5):.3f}')\n",
        "\n",
        "\n",
        "#Training\n",
        "learning_rate = 0.01\n",
        "n_iters = 10\n",
        "\n",
        "for epoch in range(n_iters):\n",
        "  #prediction = forward pass\n",
        "  y_hat = forward(x)\n",
        "\n",
        "  #loss\n",
        "  l = loss(y, y_hat)\n",
        "  #gradient\n",
        "  dw = gradient(x,y,y_hat)\n",
        "\n",
        "\n",
        "#update weights\n",
        "w-= learning_rate * dw\n",
        "\n",
        "if epoch % 2 == 0:\n",
        "  print(f'epoch {epoch+1}: w = {w:.3f}, loss = {l: .8f}')\n",
        "\n",
        "\n",
        "print(f'prediction after training: f(5) = {forward(5):.3f}')"
      ],
      "metadata": {
        "colab": {
          "base_uri": "https://localhost:8080/"
        },
        "id": "_MkAbPCn6Ong",
        "outputId": "b1367640-2775-439f-c812-c6d663e41011"
      },
      "execution_count": null,
      "outputs": [
        {
          "output_type": "stream",
          "name": "stdout",
          "text": [
            "prediction before training: f(5) = 0.000\n",
            "prediction after training: f(5) = 6.000\n"
          ]
        }
      ]
    },
    {
      "cell_type": "markdown",
      "source": [
        "**Gradient Descent with AutoGrad(pytorch)**"
      ],
      "metadata": {
        "id": "4OZktibgFDqI"
      }
    },
    {
      "cell_type": "code",
      "source": [
        "import torch\n",
        "x= torch.tensor([1,2,3,4], dtype=torch.float32)\n",
        "y= torch.tensor([2,4,6,8], dtype=torch.float32)\n",
        "\n",
        "w= torch.tensor(0.0, dtype=torch.float32, requires_grad=True)\n",
        "\n",
        "\n",
        "#model pred..\n",
        "def forward(x):\n",
        "  return w * x\n",
        "\n",
        "#loss MSE\n",
        "def loss(y,y_hat):\n",
        "  return((y_hat - y)**2).mean()\n",
        "\n",
        "\n",
        "#gradient\n",
        "def gradient(x,y,y_hat):\n",
        "  return np.dot(2*x, y_hat-y).mean()\n",
        "\n",
        "print(f'prediction before training: f(5) = {forward(5):.3f}')\n",
        "\n",
        "\n",
        "#Training\n",
        "learning_rate = 0.01\n",
        "n_iters = 100\n",
        "\n",
        "for epoch in range(n_iters):\n",
        "  #prediction = forward pass\n",
        "  y_hat = forward(x)\n",
        "\n",
        "  #loss\n",
        "  l = loss(y, y_hat)\n",
        "  #gradient = backward pass\n",
        "  l.backward()\n",
        "\n",
        "\n",
        "#update weights\n",
        "with torch.no_grad():\n",
        "  w-= learning_rate * w.grad\n",
        "\n",
        "\n",
        "#zero gradient\n",
        "w.grad.zero_()\n",
        "if epoch % 2 == 0:\n",
        "  print(f'epoch {epoch+1}: w = {w:.3f}, loss = {l: .8f}')\n",
        "\n",
        "\n",
        "print(f'prediction after training: f(5) = {forward(5):.3f}')"
      ],
      "metadata": {
        "colab": {
          "base_uri": "https://localhost:8080/"
        },
        "id": "VLu1SNvtEe7N",
        "outputId": "c8912016-a3dd-4368-cc7d-c6134f64084e"
      },
      "execution_count": null,
      "outputs": [
        {
          "output_type": "stream",
          "name": "stdout",
          "text": [
            "prediction before training: f(5) = 0.000\n",
            "prediction after training: f(5) = 150.000\n"
          ]
        }
      ]
    }
  ]
}
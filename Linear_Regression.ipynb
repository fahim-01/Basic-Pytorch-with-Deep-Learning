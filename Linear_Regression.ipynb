{
  "nbformat": 4,
  "nbformat_minor": 0,
  "metadata": {
    "colab": {
      "name": "Linear Regression.ipynb",
      "provenance": [],
      "authorship_tag": "ABX9TyMHgaed1vxjPDV5ea/BOab7",
      "include_colab_link": true
    },
    "kernelspec": {
      "name": "python3",
      "display_name": "Python 3"
    },
    "language_info": {
      "name": "python"
    }
  },
  "cells": [
    {
      "cell_type": "markdown",
      "metadata": {
        "id": "view-in-github",
        "colab_type": "text"
      },
      "source": [
        "<a href=\"https://colab.research.google.com/github/fahim-01/Basic-Pytorch-with-Deep-Learning/blob/main/Linear_Regression.ipynb\" target=\"_parent\"><img src=\"https://colab.research.google.com/assets/colab-badge.svg\" alt=\"Open In Colab\"/></a>"
      ]
    },
    {
      "cell_type": "markdown",
      "source": [
        "**Linear Regression**"
      ],
      "metadata": {
        "id": "dvB1baVRvY0p"
      }
    },
    {
      "cell_type": "code",
      "source": [
        "import torch\n",
        "import torch.nn as nn\n",
        "import numpy as np\n",
        "from sklearn import datasets\n",
        "import matplotlib.pyplot as plt\n",
        "\n",
        "#Prepare data\n",
        "\n",
        "x_numpy, y_numpy = datasets.make_regression(n_samples=100, n_features=1, noise=20, random_state=1)\n",
        "x= torch.from_numpy(x_numpy.astype(np.float32))\n",
        "y= torch.from_numpy(y_numpy.astype(np.float32))\n",
        "y= y.view(y.shape[0],1)\n",
        "\n",
        "n_samples, n_features = x.shape\n",
        "\n",
        "#model\n",
        "\n",
        "input_size = n_features\n",
        "output_size= 1\n",
        "\n",
        "model = nn.Linear(input_size, output_size)\n",
        "\n",
        "\n",
        "#loss and optimizer\n",
        "\n",
        "learning_rate=0.01\n",
        "criterion = nn.MSELoss()\n",
        "optimizer = torch.optim.SGD(model.parameters(), lr=learning_rate)\n",
        "\n",
        "# Training loop\n",
        "num_epochs =100\n",
        "for epoch in range(num_epochs):\n",
        "  #forward pass and loss\n",
        "  y_hat = model(x)\n",
        "  loss = criterion(y_hat, y)\n",
        "\n",
        "\n",
        "  #backward\n",
        "  loss.backward()\n",
        "\n",
        "\n",
        "  #update\n",
        "  optimizer.step()\n",
        "  optimizer.zero_grad()\n",
        "\n",
        "  if(epoch+1)%10 ==0:\n",
        "    print(f'epoch:{epoch+1}, loss= {loss.item():.4f}')\n",
        "\n",
        "\n",
        "\n",
        "#plot\n",
        "predicted = model(x).detach().numpy()\n",
        "plt.plot(x_numpy, y_numpy, 'ro')\n",
        "\n",
        "plt.plot(x_numpy, predicted, 'b')\n",
        "\n",
        "plt.show()\n"
      ],
      "metadata": {
        "colab": {
          "base_uri": "https://localhost:8080/",
          "height": 439
        },
        "id": "442Z9ISJvdtG",
        "outputId": "43798424-392b-4ea8-bd4a-21a3bdf9e385"
      },
      "execution_count": 3,
      "outputs": [
        {
          "output_type": "stream",
          "name": "stdout",
          "text": [
            "epoch:10, loss= 4340.7974\n",
            "epoch:20, loss= 3237.5603\n",
            "epoch:30, loss= 2439.9690\n",
            "epoch:40, loss= 1862.6963\n",
            "epoch:50, loss= 1444.4465\n",
            "epoch:60, loss= 1141.1202\n",
            "epoch:70, loss= 920.9426\n",
            "epoch:80, loss= 760.9891\n",
            "epoch:90, loss= 644.6985\n",
            "epoch:100, loss= 560.0927\n"
          ]
        },
        {
          "output_type": "display_data",
          "data": {
            "text/plain": [
              "<Figure size 432x288 with 1 Axes>"
            ],
            "image/png": "[encoded data removed]"
          },
          "metadata": {
            "needs_background": "light"
          }
        }
      ]
    }
  ]
}
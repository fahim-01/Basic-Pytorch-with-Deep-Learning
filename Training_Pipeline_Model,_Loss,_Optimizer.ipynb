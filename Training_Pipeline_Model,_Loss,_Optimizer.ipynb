{
  "nbformat": 4,
  "nbformat_minor": 0,
  "metadata": {
    "colab": {
      "name": "Training Pipeline: Model, Loss, Optimizer.ipynb",
      "provenance": [],
      "authorship_tag": "ABX9TyMdRhVMPCoD2M5CAd1EOq7+",
      "include_colab_link": true
    },
    "kernelspec": {
      "name": "python3",
      "display_name": "Python 3"
    },
    "language_info": {
      "name": "python"
    }
  },
  "cells": [
    {
      "cell_type": "markdown",
      "metadata": {
        "id": "view-in-github",
        "colab_type": "text"
      },
      "source": [
        "<a href=\"https://colab.research.google.com/github/fahim-01/Basic-Pytorch-with-Deep-Learning/blob/main/Training_Pipeline_Model%2C_Loss%2C_Optimizer.ipynb\" target=\"_parent\"><img src=\"https://colab.research.google.com/assets/colab-badge.svg\" alt=\"Open In Colab\"/></a>"
      ]
    },
    {
      "cell_type": "markdown",
      "source": [
        "**Training Pipeline: Model, Loss, Optimizer**"
      ],
      "metadata": {
        "id": "Dgsxjws-mKtf"
      }
    },
    {
      "cell_type": "code",
      "source": [
        "import torch\n",
        "import torch.nn as nn\n",
        "\n",
        "x= torch.tensor([[1],[2],[3],[4]], dtype=torch.float32)\n",
        "y= torch.tensor([[2],[4],[6],[8]], dtype=torch.float32)\n",
        "\n",
        "x_test = torch.tensor([5], dtype=torch.float32)\n",
        "\n",
        "n_samples, n_features = x.shape\n",
        "print(n_samples, n_features)\n",
        "\n",
        "input_size = n_features\n",
        "output_size = n_features\n",
        "\n",
        "model = nn.Linear(input_size, output_size)\n",
        "\n",
        "print(f'prediction before training: f(5) = {model(x_test).item():.3f}')\n",
        "\n",
        "\n",
        "#Training\n",
        "learning_rate = 0.01\n",
        "n_iters = 100\n",
        "\n",
        "loss = nn.MSELoss()\n",
        "optimizer = torch.optim.SGD(model.parameters(), lr=learning_rate)\n",
        "\n",
        "for epoch in range(n_iters):\n",
        "  #prediction = forward pass\n",
        "  y_hat = model(x)\n",
        "\n",
        "  #loss\n",
        "  l = loss(y, y_hat)\n",
        "  #gradient = backward pass\n",
        "  l.backward()\n",
        "\n",
        "\n",
        "#update weights\n",
        "optimizer.step()\n",
        "\n",
        "\n",
        "#zero gradient\n",
        "optimizer.zero_grad()\n",
        "\n",
        "\n",
        "if epoch % 10 == 0:\n",
        "  [w,b] = model.parameters()\n",
        "  print(f'epoch {epoch+1}: w = {w[0][0].item():.3f}, loss = {l: .8f}')\n",
        "\n",
        "\n",
        "print(f'prediction after training: f(5) = {model(x_test).item():.3f}')"
      ],
      "metadata": {
        "colab": {
          "base_uri": "https://localhost:8080/"
        },
        "id": "ykxUyIexmUiD",
        "outputId": "dae39eb1-405d-4638-d2b1-0da34bcd8077"
      },
      "execution_count": 2,
      "outputs": [
        {
          "output_type": "stream",
          "name": "stdout",
          "text": [
            "4 1\n",
            "prediction before training: f(5) = 2.899\n",
            "prediction after training: f(5) = 113.499\n"
          ]
        }
      ]
    }
  ]
}